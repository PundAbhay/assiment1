{
 "cells": [
  {
   "cell_type": "code",
   "execution_count": 1,
   "id": "08d3b2e0-3640-4623-abe9-f4348d0c40ec",
   "metadata": {},
   "outputs": [
    {
     "data": {
      "text/plain": [
       "10"
      ]
     },
     "execution_count": 1,
     "metadata": {},
     "output_type": "execute_result"
    }
   ],
   "source": [
    "4+6"
   ]
  },
  {
   "cell_type": "code",
   "execution_count": 2,
   "id": "ff1f4d00-cd91-47c6-b7f0-e80f25a5eafe",
   "metadata": {},
   "outputs": [],
   "source": [
    "a=12\n",
    "b=52"
   ]
  },
  {
   "cell_type": "code",
   "execution_count": 3,
   "id": "a2d0239b-54ae-4ca4-af44-2b74f9d41c02",
   "metadata": {},
   "outputs": [
    {
     "data": {
      "text/plain": [
       "64"
      ]
     },
     "execution_count": 3,
     "metadata": {},
     "output_type": "execute_result"
    }
   ],
   "source": [
    "a+b"
   ]
  },
  {
   "cell_type": "code",
   "execution_count": null,
   "id": "f4540591-d865-4e2e-af14-78c2d2af10c1",
   "metadata": {},
   "outputs": [],
   "source": []
  },
  {
   "cell_type": "code",
   "execution_count": null,
   "id": "272ccf85-bc59-4208-a0e9-478eaf7d264b",
   "metadata": {},
   "outputs": [],
   "source": []
  }
 ],
 "metadata": {
  "kernelspec": {
   "display_name": "Python 3 (ipykernel)",
   "language": "python",
   "name": "python3"
  },
  "language_info": {
   "codemirror_mode": {
    "name": "ipython",
    "version": 3
   },
   "file_extension": ".py",
   "mimetype": "text/x-python",
   "name": "python",
   "nbconvert_exporter": "python",
   "pygments_lexer": "ipython3",
   "version": "3.10.6"
  }
 },
 "nbformat": 4,
 "nbformat_minor": 5
}
